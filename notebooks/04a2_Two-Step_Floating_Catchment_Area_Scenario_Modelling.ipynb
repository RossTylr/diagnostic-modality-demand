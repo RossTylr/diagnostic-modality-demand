{
 "cells": [
  {
   "cell_type": "code",
   "execution_count": null,
   "id": "239e24b6-d648-4acb-ab2a-7997dde1a685",
   "metadata": {},
   "outputs": [],
   "source": []
  },
  {
   "cell_type": "code",
   "execution_count": 1,
   "id": "d78d9d19-9775-4221-a805-59a9ef538001",
   "metadata": {},
   "outputs": [],
   "source": [
    "# ----------------------------------------------------------\n",
    "# Step 0 – Imports and Display Setup\n",
    "# ----------------------------------------------------------\n",
    "\n",
    "import os\n",
    "import geopandas as gpd\n",
    "import pandas as pd\n",
    "import numpy as np\n",
    "import matplotlib.pyplot as plt\n",
    "import contextily as ctx\n"
   ]
  },
  {
   "cell_type": "code",
   "execution_count": 3,
   "id": "d7211ada-ebbf-48d3-b7be-1a1fa1ef132b",
   "metadata": {},
   "outputs": [
    {
     "name": "stdout",
     "output_type": "stream",
     "text": [
      "Baseline data loaded. Ready to define scenario.\n"
     ]
    }
   ],
   "source": [
    "# ----------------------------------------------------------\n",
    "# Step 1 – Define File Paths and Load Processed Inputs\n",
    "# ----------------------------------------------------------\n",
    "\n",
    "\n",
    "# Define base directory and processed/raw paths\n",
    "base_dir = \"/Users/rosstaylor/Downloads/Research Project/Code Folder/diagnostic-modality-demand/diagnostic-modality-demand\"\n",
    "data_dir = os.path.join(base_dir, \"data\")\n",
    "processed_dir = os.path.join(data_dir, \"processed\")\n",
    "raw_dir = os.path.join(data_dir, \"raw\")\n",
    "\n",
    "# Load LSOA with 2SFCA baseline scores\n",
    "gdf_lsoa = gpd.read_file(os.path.join(processed_dir, \"LSOA_CT_2SFCA_Accessibility_2024.gpkg\"))\n",
    "\n",
    "# Load scanner site supply GeoDataFrame\n",
    "gdf_sites = gpd.read_file(os.path.join(processed_dir, \"CT_Scanner_Sites_With_SupplyRatios.gpkg\"))\n",
    "\n",
    "# Load travel matrix (used unchanged from raw)\n",
    "df_travel = pd.read_csv(os.path.join(raw_dir, \"LSOA_to_LSOA_complete.csv\"))\n",
    "\n",
    "print(\"Baseline data loaded. Ready to define scenario.\")\n"
   ]
  },
  {
   "cell_type": "code",
   "execution_count": null,
   "id": "a8091b6c-fdaa-4c63-909a-c24678027b79",
   "metadata": {},
   "outputs": [],
   "source": []
  },
  {
   "cell_type": "code",
   "execution_count": null,
   "id": "605aa1cf-1f45-40e3-89d8-e5664bdc557f",
   "metadata": {},
   "outputs": [],
   "source": []
  }
 ],
 "metadata": {
  "kernelspec": {
   "display_name": "Python 3 (ipykernel)",
   "language": "python",
   "name": "python3"
  },
  "language_info": {
   "codemirror_mode": {
    "name": "ipython",
    "version": 3
   },
   "file_extension": ".py",
   "mimetype": "text/x-python",
   "name": "python",
   "nbconvert_exporter": "python",
   "pygments_lexer": "ipython3",
   "version": "3.10.18"
  }
 },
 "nbformat": 4,
 "nbformat_minor": 5
}
