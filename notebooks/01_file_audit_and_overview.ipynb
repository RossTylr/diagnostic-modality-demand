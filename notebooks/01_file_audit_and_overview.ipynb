{
 "cells": [
  {
   "cell_type": "code",
   "execution_count": null,
   "id": "62f2f69c",
   "metadata": {
    "vscode": {
     "languageId": "plaintext"
    }
   },
   "outputs": [],
   "source": []
  },
  {
   "cell_type": "code",
   "execution_count": null,
   "id": "2781d222",
   "metadata": {},
   "outputs": [],
   "source": [
    "# ------------------------------------------------------------------\n",
    "# Step 0 – Purpose\n",
    "# ------------------------------------------------------------------\n",
    "# Inspect all files in a given folder to:\n",
    "# - Identify file types\n",
    "# - Attempt to load them with pandas\n",
    "# - Print file name, shape, column names, and header preview"
   ]
  },
  {
   "cell_type": "code",
   "execution_count": null,
   "id": "f8e6701f",
   "metadata": {},
   "outputs": [],
   "source": [
    "# ------------------------------------------------------------------\n",
    "# Step 1 – Imports\n",
    "# ------------------------------------------------------------------\n",
    "import os\n",
    "import pandas as pd"
   ]
  },
  {
   "cell_type": "code",
   "execution_count": null,
   "id": "6dcfb55c",
   "metadata": {},
   "outputs": [],
   "source": [
    "# ------------------------------------------------------------------\n",
    "# Step 2 – Define Path and Inspection Function\n",
    "# ------------------------------------------------------------------\n",
    "data_dir = \"/Users/rosstaylor/Downloads/Research Project/Code Folder/diagnostic-modality-demand/diagnostic-modality-demand/data/raw\"\n",
    "\n",
    "def inspect_file(filepath):\n",
    "    print(f\"\\nFile: {os.path.basename(filepath)}\")\n",
    "\n",
    "    try:\n",
    "        if filepath.endswith('.csv'):\n",
    "            df = pd.read_csv(filepath, nrows=5)\n",
    "        elif filepath.endswith(('.xlsx', '.xls')):\n",
    "            df = pd.read_excel(filepath, nrows=5)\n",
    "        elif filepath.endswith('.parquet'):\n",
    "            df = pd.read_parquet(filepath)\n",
    "        else:\n",
    "            print(\"Unsupported or non-tabular file type\")\n",
    "            return\n",
    "\n",
    "        print(f\"Type: {type(df).__name__}\")\n",
    "        print(f\"Shape (first 5 rows): {df.shape}\")\n",
    "        print(f\"Column names: {list(df.columns)}\")\n",
    "        print(\"Head preview:\")\n",
    "        print(df.head())\n",
    "\n",
    "    except Exception as e:\n",
    "        print(f\"Error reading file: {e}\")\n"
   ]
  },
  {
   "cell_type": "code",
   "execution_count": null,
   "id": "278321cc",
   "metadata": {},
   "outputs": [],
   "source": [
    "# ------------------------------------------------------------------\n",
    "# Step 3 – Load and Inspect Files\n",
    "# ------------------------------------------------------------------\n",
    "for filename in os.listdir(data_dir):\n",
    "    filepath = os.path.join(data_dir, filename)\n",
    "    if os.path.isfile(filepath):\n",
    "        inspect_file(filepath)"
   ]
  },
  {
   "cell_type": "code",
   "execution_count": null,
   "id": "96906a33",
   "metadata": {},
   "outputs": [],
   "source": [
    "# ------------------------------------------------------------------\n",
    "# Step 4 – Load and Inspect Metadata\n",
    "# ------------------------------------------------------------------\n",
    "summary = []\n",
    "\n",
    "for filename in os.listdir(data_dir):\n",
    "    filepath = os.path.join(data_dir, filename)\n",
    "    if os.path.isfile(filepath):\n",
    "        file_info = {\n",
    "            \"filename\": filename,\n",
    "            \"filetype\": os.path.splitext(filename)[-1],\n",
    "            \"size_MB\": round(os.path.getsize(filepath) / (1024 * 1024), 2)\n",
    "        }\n",
    "        try:\n",
    "            if filename.endswith(\".csv\"):\n",
    "                df = pd.read_csv(filepath, nrows=5)\n",
    "            elif filename.endswith(('.xlsx', '.xls')):\n",
    "                df = pd.read_excel(filepath, nrows=5)\n",
    "            elif filename.endswith(\".parquet\"):\n",
    "                df = pd.read_parquet(filepath)\n",
    "            else:\n",
    "                continue\n",
    "            file_info[\"columns\"] = list(df.columns)\n",
    "            file_info[\"n_columns\"] = len(df.columns)\n",
    "        except Exception as e:\n",
    "            file_info[\"error\"] = str(e)\n",
    "        summary.append(file_info)\n",
    "\n",
    "# Convert to DataFrame and preview\n",
    "summary_df = pd.DataFrame(summary)\n",
    "print(summary_df.head())"
   ]
  },
  {
   "cell_type": "markdown",
   "id": "1fa70e08",
   "metadata": {},
   "source": []
  }
 ],
 "metadata": {
  "language_info": {
   "name": "python"
  }
 },
 "nbformat": 4,
 "nbformat_minor": 5
}
